{
  "nbformat": 4,
  "nbformat_minor": 0,
  "metadata": {
    "colab": {
      "name": "mobilenet.ipynb",
      "version": "0.3.2",
      "provenance": [],
      "collapsed_sections": [],
      "include_colab_link": true
    },
    "kernelspec": {
      "name": "python3",
      "display_name": "Python 3"
    },
    "accelerator": "GPU"
  },
  "cells": [
    {
      "cell_type": "markdown",
      "metadata": {
        "id": "view-in-github",
        "colab_type": "text"
      },
      "source": [
        "<a href=\"https://colab.research.google.com/github/sailalitha96/Autnomous-Beach-Cleaning/blob/master/mobilenet.ipynb\" target=\"_parent\"><img src=\"https://colab.research.google.com/assets/colab-badge.svg\" alt=\"Open In Colab\"/></a>"
      ]
    },
    {
      "metadata": {
        "id": "WBRUjEkeZzJh",
        "colab_type": "code",
        "colab": {}
      },
      "cell_type": "code",
      "source": [
        "import keras\n",
        "from keras.layers import Input, merge\n",
        "from keras.layers import Convolution2D , concatenate ,Conv2D,Dense\n",
        "from keras.layers import Activation,Dropout, GlobalAveragePooling2D,BatchNormalization,SeparableConv2D\n",
        "from keras.models import Model\n",
        "from keras.optimizers import Adam\n",
        "from keras.utils import  to_categorical\n",
        "import tensorflow as tf\n",
        "import numpy as np\n",
        "import matplotlib.pyplot as plt\n",
        "import tensorflow.contrib.slim as slim\n",
        "from keras.layers.core import Dense,Dropout,Activation,Flatten,Lambda\n",
        "from PIL import Image\n",
        "from sklearn.utils import class_weight\n",
        "from scipy.misc import imread\n",
        "from joblib import Parallel, delayed\n",
        "import tflearn as tf\n",
        "from tflearn.data_utils import build_hdf5_image_dataset\n",
        "from scipy.ndimage import rotate, imread\n",
        "import h5py\n",
        "import numpy as np \n",
        "import pandas as pd\n",
        "%matplotlib inline\n",
        "from IPython.display import clear_output\n",
        "pd.options.mode.chained_assignment = None\n",
        "from keras.layers import Input, merge\n",
        "from keras.models import Sequential \n",
        "from keras.layers import Convolution2D , concatenate ,Conv2D,Dense\n",
        "from keras.layers import Activation,Dropout, GlobalAveragePooling2D,MaxPooling2D\n",
        "from keras.models import Model\n",
        "from keras.optimizers import Adam ,SGD,RMSprop\n",
        "from keras.utils import  to_categorical\n",
        "import tensorflow as tf\n",
        "import numpy as np\n",
        "# import matplotlib.pyplot as plt\n",
        "# print(matplotlib.__file__)\n",
        "from keras.optimizers import *\n",
        "from keras.models import Model\n",
        "from keras.layers import *\n",
        "from keras.activations import *\n",
        "from keras.callbacks import *"
      ],
      "execution_count": 0,
      "outputs": []
    },
    {
      "metadata": {
        "id": "h1Ck1zeVaHiF",
        "colab_type": "code",
        "outputId": "29a534a5-a512-4ab5-8b5f-c5f266eefc3e",
        "colab": {
          "base_uri": "https://localhost:8080/",
          "height": 285
        }
      },
      "cell_type": "code",
      "source": [
        "from google.colab import drive\n",
        "drive.mount('/content/drive')\n",
        "\n",
        "#replace with the location of your Part4 folder...\n",
        "%cd \"/content/drive/My Drive/Colab Notebooks\" \n",
        "!ls"
      ],
      "execution_count": 0,
      "outputs": [
        {
          "output_type": "stream",
          "text": [
            "Drive already mounted at /content/drive; to attempt to forcibly remount, call drive.mount(\"/content/drive\", force_remount=True).\n",
            "/content/drive/My Drive/Colab Notebooks\n",
            " 4_1.pkl\t\t\t  helper.py\n",
            " 4_2.pkl\t\t\t  HW_4_part4.ipynb\n",
            " 4_3.pkl\t\t\t 'hw6-part(A).ipynb'\n",
            "'architecture -testing.ipynb'\t  mobilenet.ipynb\n",
            " base.csv\t\t\t  resnet.ipynb\n",
            " baseline.ipynb\t\t\t 'test1 - baseline-ipynb.ipynb'\n",
            "'Copy of cis580_2019_hw6.ipynb'   texts.csv\n",
            " documentation.docx\t\t  texts.out\n",
            " farm.jpg\t\t\t  train_againdataset.h5\n",
            " Fritz.ipynb\t\t\t  Untitled0.ipynb\n",
            "'gauri (1).ipynb'\t\t  Untitled1.ipynb\n",
            " gauri.ipynb\t\t\t  val_againdataset.h5\n"
          ],
          "name": "stdout"
        }
      ]
    },
    {
      "metadata": {
        "id": "RVSjcfpzZ7a8",
        "colab_type": "code",
        "colab": {}
      },
      "cell_type": "code",
      "source": [
        "def build_squeezenet_depthwise(input_shape, width_multiplier = 1):\n",
        "    \n",
        "    # call depthwise convolution - step 1 \n",
        "    # call pointwise conolution - step 2 \n",
        "    \n",
        "\n",
        "    input_layer = Input((input_shape))\n",
        "    \n",
        "    # the spatial convolutional network is 1x3 and then 3x1 . Implementd in the below function \n",
        "\n",
        "    x = Convolution2D(int(32), (3, 3), padding='same')(input_layer)\n",
        "    # each layer is passed through a bath normalization , helps in normalizing .\n",
        "    x = BatchNormalization()(x)\n",
        "    x = Activation('relu')(x)\n",
        "    \n",
        "\n",
        "    x = DepthwiseConvolution2D(x,int(32), padding='same')\n",
        "    x = BatchNormalization()(x)\n",
        "    x = Activation('relu')(x)\n",
        "    x = Convolution2D(int(64), (1, 1), strides=(1, 1), padding='same')(x)\n",
        "    x = BatchNormalization()(x)\n",
        "    x = Activation('relu')(x)\n",
        "\n",
        "    x = DepthwiseConvolution2D(x,int(64), padding='same')\n",
        "    x = BatchNormalization()(x)\n",
        "    x = Activation('relu')(x)\n",
        "    x = Convolution2D(int(128), (1, 1), strides=(1, 1), padding='same')(x)\n",
        "    x = BatchNormalization()(x)\n",
        "    x = Activation('relu')(x)\n",
        "\n",
        "    x = DepthwiseConvolution2D(x,int(128), padding='same')\n",
        "    x = BatchNormalization()(x)\n",
        "    x = Activation('relu')(x)\n",
        "    x = Convolution2D(int(128) ,(1, 1), strides=(1, 1), padding='same')(x)\n",
        "    x = BatchNormalization()(x)\n",
        "    x = Activation('relu')(x)\n",
        "\n",
        "    x = DepthwiseConvolution2D(x,int(128), padding='same')\n",
        "    x = BatchNormalization()(x)\n",
        "    x = Activation('relu')(x)\n",
        "    x = Convolution2D(int(256), (1, 1), strides=(1, 1), padding='same')(x)\n",
        "    x = BatchNormalization()(x)\n",
        "    x = Activation('relu')(x)\n",
        "\n",
        "    x = DepthwiseConvolution2D(x,int(256), padding='same')\n",
        "    x = BatchNormalization()(x)\n",
        "    x = Activation('relu')(x)\n",
        "    x = Convolution2D(int(256), (1, 1), strides=(1, 1), padding='same')(x)\n",
        "    x = BatchNormalization()(x)\n",
        "    x = Activation('relu')(x)\n",
        "\n",
        "    x = DepthwiseConvolution2D(x,int(256), padding='same')\n",
        "    x = BatchNormalization()(x)\n",
        "    x = Activation('relu')(x)\n",
        "    x = Convolution2D(int(512), (1, 1), strides=(1, 1), padding='same')(x)\n",
        "    x = BatchNormalization()(x)\n",
        "    x = Activation('relu')(x)\n",
        "    \n",
        "    x = Conv2D(2,kernel_size=(1,1),padding='valid',activation='relu')(x)\n",
        "    x = GlobalAveragePooling2D()(x)\n",
        "    \n",
        "   \n",
        "    x = Dense(2, activation='softmax')(x)\n",
        "    \n",
        "    \n",
        "    model = Model(input_layer, x, name='mobilenet')\n",
        "    return model \n",
        "    \n",
        "    \n",
        "    \n",
        "    \n",
        "    \n",
        "\n",
        "def DepthwiseConvolution2D( inputs , filter_size, width=1, padding='same') :\n",
        "    \n",
        "    # call depthwise convolution - step 1 \n",
        "    # call pointwise conolution - step 2 \n",
        "    \n",
        "    # the seperable convoltuion makes 3x3 filters \n",
        "    #applied first 1x3 and then 3x1. \n",
        "    \n",
        "    x = SeparableConv2D(filter_size, kernel_size=(3,3) , strides = (1, 1),depth_multiplier= 1)(inputs)\n",
        "#     out = slim.separable_convolution2d(inputs,num_outputs=None,\n",
        "#                                                   stride=(2,2),\n",
        "#                                                   padding =\"SAME\",\n",
        "#                                                   depth_multiplier=1,\n",
        "#                                                   kernel_size=[3, 3])\n",
        "    \n",
        "    num_pwc_filters = int(filter_size*width)\n",
        "    \n",
        "#     batch =slim.batch_norm(out)\n",
        "    x = BatchNormalization()(x)\n",
        "    \n",
        "\n",
        "    \n",
        "#     point_out=  slim.convolution2d(batch,num_pwc_filters,kernel_size=[1, 1])\n",
        "    x = Convolution2D(filter_size,kernel_size =(1, 1), strides=(1, 1), padding='same')(x)\n",
        "   \n",
        "    x = BatchNormalization()(x)\n",
        "    print(x.shape)\n",
        "\n",
        "    return x\n",
        "    "
      ],
      "execution_count": 0,
      "outputs": []
    },
    {
      "metadata": {
        "id": "1lNF-i4pZ_2E",
        "colab_type": "code",
        "outputId": "5a930155-dab0-48f9-af04-6851a87dc175",
        "colab": {
          "base_uri": "https://localhost:8080/",
          "height": 34
        }
      },
      "cell_type": "code",
      "source": [
        "def load_hdf_dataset(mode):\n",
        "    h5_file = h5py.File(mode+ 'dataset.h5', 'r')\n",
        "    images = h5_file ['X']\n",
        "    labels = h5_file ['Y'][:]\n",
        "    \n",
        "    images = images[:,:,:].reshape([-1,50,50,1])\n",
        "    h5_file.close()\n",
        "    return images, labels \n",
        "\n",
        "\n",
        "\n",
        "\n",
        "train_images , tr_labels = load_hdf_dataset('train_again')\n",
        "\n",
        "    \n",
        "\n",
        "val_images , val_labels = load_hdf_dataset('val_again')\n",
        "\n",
        "# images = np.concatenate((train_images,val_images))\n",
        "\n",
        "# labels  = np.concatenate((tr_labels,val_labels))\n",
        "\n",
        "# getting indexes\n",
        "lab_0 = tr_labels[:,0] \n",
        "zeros_class= np.where(lab_0 ==1)\n",
        "lab_1 = tr_labels[:,1]\n",
        "ones_class= np.where(lab_1 ==1)\n",
        "\n",
        "for no in zeros_class:\n",
        "    train_0 = train_images[no,:,:,:]\n",
        "    train_labels_0 = tr_labels[no,:]\n",
        "\n",
        "for no in ones_class:\n",
        "    \n",
        "    train_1 = train_images[no,:,:,:]\n",
        "    train_labels_1 = tr_labels[no,:]\n",
        "\n",
        "\n",
        "train_0 = train_0[ :len(train_labels_1), :,:,:]\n",
        "train_labels_0= train_labels_0[ :len(train_labels_1), :]\n",
        "\n",
        "images = np.concatenate((train_0,train_1))\n",
        "images = np.asarray(images)\n",
        "\n",
        "labels =  np.concatenate((train_labels_0,train_labels_1))\n",
        "labels = np.asarray(labels)\n",
        "labels.shape\n"
      ],
      "execution_count": 0,
      "outputs": [
        {
          "output_type": "execute_result",
          "data": {
            "text/plain": [
              "(5196, 2)"
            ]
          },
          "metadata": {
            "tags": []
          },
          "execution_count": 57
        }
      ]
    },
    {
      "metadata": {
        "id": "VF6oTPkNaWFe",
        "colab_type": "code",
        "outputId": "aeca1698-bc08-473d-b02d-fd4e94bd6887",
        "colab": {
          "base_uri": "https://localhost:8080/",
          "height": 3198
        }
      },
      "cell_type": "code",
      "source": [
        "model_dw = build_squeezenet_depthwise(input_shape= (50,50,1))\n",
        "\n",
        "# sgd = SGD(lr=0.001, decay=1e-6, momentum=0.9, nesterov=True)\n",
        "sgd = Adam(lr=0.0001)\n",
        "model_dw.compile(\n",
        "    optimizer=sgd, loss='categorical_crossentropy',\n",
        "    metrics=['accuracy'])\n",
        "\n",
        "# weights = class_weight.compute_class_weight('balanced',\n",
        "#                                             np.unique(val_labels[:,0]) ,\n",
        "#                                             val_labels[:,0])\n",
        "\n",
        "wt = np.array([ 0.4,0.6])\n",
        "model_dw.summary()\n",
        "history = model_dw.fit(x=train_images, \n",
        "            y=tr_labels, \n",
        "            batch_size=32,\n",
        "            epochs=20, \n",
        "            verbose=1,  \n",
        "#             validation_split=0.2,\n",
        "            class_weight= wt,\n",
        "            validation_data=(val_images,val_labels), \n",
        "            shuffle=True)\n"
      ],
      "execution_count": 0,
      "outputs": [
        {
          "output_type": "stream",
          "text": [
            "(?, 48, 48, 32)\n",
            "(?, 46, 46, 64)\n",
            "(?, 44, 44, 128)\n",
            "(?, 42, 42, 128)\n",
            "(?, 40, 40, 256)\n",
            "(?, 38, 38, 256)\n",
            "_________________________________________________________________\n",
            "Layer (type)                 Output Shape              Param #   \n",
            "=================================================================\n",
            "input_1 (InputLayer)         (None, 50, 50, 1)         0         \n",
            "_________________________________________________________________\n",
            "conv2d_1 (Conv2D)            (None, 50, 50, 32)        320       \n",
            "_________________________________________________________________\n",
            "batch_normalization_1 (Batch (None, 50, 50, 32)        128       \n",
            "_________________________________________________________________\n",
            "activation_1 (Activation)    (None, 50, 50, 32)        0         \n",
            "_________________________________________________________________\n",
            "separable_conv2d_1 (Separabl (None, 48, 48, 32)        1344      \n",
            "_________________________________________________________________\n",
            "batch_normalization_2 (Batch (None, 48, 48, 32)        128       \n",
            "_________________________________________________________________\n",
            "conv2d_2 (Conv2D)            (None, 48, 48, 32)        1056      \n",
            "_________________________________________________________________\n",
            "batch_normalization_3 (Batch (None, 48, 48, 32)        128       \n",
            "_________________________________________________________________\n",
            "batch_normalization_4 (Batch (None, 48, 48, 32)        128       \n",
            "_________________________________________________________________\n",
            "activation_2 (Activation)    (None, 48, 48, 32)        0         \n",
            "_________________________________________________________________\n",
            "conv2d_3 (Conv2D)            (None, 48, 48, 64)        2112      \n",
            "_________________________________________________________________\n",
            "batch_normalization_5 (Batch (None, 48, 48, 64)        256       \n",
            "_________________________________________________________________\n",
            "activation_3 (Activation)    (None, 48, 48, 64)        0         \n",
            "_________________________________________________________________\n",
            "separable_conv2d_2 (Separabl (None, 46, 46, 64)        4736      \n",
            "_________________________________________________________________\n",
            "batch_normalization_6 (Batch (None, 46, 46, 64)        256       \n",
            "_________________________________________________________________\n",
            "conv2d_4 (Conv2D)            (None, 46, 46, 64)        4160      \n",
            "_________________________________________________________________\n",
            "batch_normalization_7 (Batch (None, 46, 46, 64)        256       \n",
            "_________________________________________________________________\n",
            "batch_normalization_8 (Batch (None, 46, 46, 64)        256       \n",
            "_________________________________________________________________\n",
            "activation_4 (Activation)    (None, 46, 46, 64)        0         \n",
            "_________________________________________________________________\n",
            "conv2d_5 (Conv2D)            (None, 46, 46, 128)       8320      \n",
            "_________________________________________________________________\n",
            "batch_normalization_9 (Batch (None, 46, 46, 128)       512       \n",
            "_________________________________________________________________\n",
            "activation_5 (Activation)    (None, 46, 46, 128)       0         \n",
            "_________________________________________________________________\n",
            "separable_conv2d_3 (Separabl (None, 44, 44, 128)       17664     \n",
            "_________________________________________________________________\n",
            "batch_normalization_10 (Batc (None, 44, 44, 128)       512       \n",
            "_________________________________________________________________\n",
            "conv2d_6 (Conv2D)            (None, 44, 44, 128)       16512     \n",
            "_________________________________________________________________\n",
            "batch_normalization_11 (Batc (None, 44, 44, 128)       512       \n",
            "_________________________________________________________________\n",
            "batch_normalization_12 (Batc (None, 44, 44, 128)       512       \n",
            "_________________________________________________________________\n",
            "activation_6 (Activation)    (None, 44, 44, 128)       0         \n",
            "_________________________________________________________________\n",
            "conv2d_7 (Conv2D)            (None, 44, 44, 128)       16512     \n",
            "_________________________________________________________________\n",
            "batch_normalization_13 (Batc (None, 44, 44, 128)       512       \n",
            "_________________________________________________________________\n",
            "activation_7 (Activation)    (None, 44, 44, 128)       0         \n",
            "_________________________________________________________________\n",
            "separable_conv2d_4 (Separabl (None, 42, 42, 128)       17664     \n",
            "_________________________________________________________________\n",
            "batch_normalization_14 (Batc (None, 42, 42, 128)       512       \n",
            "_________________________________________________________________\n",
            "conv2d_8 (Conv2D)            (None, 42, 42, 128)       16512     \n",
            "_________________________________________________________________\n",
            "batch_normalization_15 (Batc (None, 42, 42, 128)       512       \n",
            "_________________________________________________________________\n",
            "batch_normalization_16 (Batc (None, 42, 42, 128)       512       \n",
            "_________________________________________________________________\n",
            "activation_8 (Activation)    (None, 42, 42, 128)       0         \n",
            "_________________________________________________________________\n",
            "conv2d_9 (Conv2D)            (None, 42, 42, 256)       33024     \n",
            "_________________________________________________________________\n",
            "batch_normalization_17 (Batc (None, 42, 42, 256)       1024      \n",
            "_________________________________________________________________\n",
            "activation_9 (Activation)    (None, 42, 42, 256)       0         \n",
            "_________________________________________________________________\n",
            "separable_conv2d_5 (Separabl (None, 40, 40, 256)       68096     \n",
            "_________________________________________________________________\n",
            "batch_normalization_18 (Batc (None, 40, 40, 256)       1024      \n",
            "_________________________________________________________________\n",
            "conv2d_10 (Conv2D)           (None, 40, 40, 256)       65792     \n",
            "_________________________________________________________________\n",
            "batch_normalization_19 (Batc (None, 40, 40, 256)       1024      \n",
            "_________________________________________________________________\n",
            "batch_normalization_20 (Batc (None, 40, 40, 256)       1024      \n",
            "_________________________________________________________________\n",
            "activation_10 (Activation)   (None, 40, 40, 256)       0         \n",
            "_________________________________________________________________\n",
            "conv2d_11 (Conv2D)           (None, 40, 40, 256)       65792     \n",
            "_________________________________________________________________\n",
            "batch_normalization_21 (Batc (None, 40, 40, 256)       1024      \n",
            "_________________________________________________________________\n",
            "activation_11 (Activation)   (None, 40, 40, 256)       0         \n",
            "_________________________________________________________________\n",
            "separable_conv2d_6 (Separabl (None, 38, 38, 256)       68096     \n",
            "_________________________________________________________________\n",
            "batch_normalization_22 (Batc (None, 38, 38, 256)       1024      \n",
            "_________________________________________________________________\n",
            "conv2d_12 (Conv2D)           (None, 38, 38, 256)       65792     \n",
            "_________________________________________________________________\n",
            "batch_normalization_23 (Batc (None, 38, 38, 256)       1024      \n",
            "_________________________________________________________________\n",
            "batch_normalization_24 (Batc (None, 38, 38, 256)       1024      \n",
            "_________________________________________________________________\n",
            "activation_12 (Activation)   (None, 38, 38, 256)       0         \n",
            "_________________________________________________________________\n",
            "conv2d_13 (Conv2D)           (None, 38, 38, 512)       131584    \n",
            "_________________________________________________________________\n",
            "batch_normalization_25 (Batc (None, 38, 38, 512)       2048      \n",
            "_________________________________________________________________\n",
            "activation_13 (Activation)   (None, 38, 38, 512)       0         \n",
            "_________________________________________________________________\n",
            "conv2d_14 (Conv2D)           (None, 38, 38, 2)         1026      \n",
            "_________________________________________________________________\n",
            "global_average_pooling2d_1 ( (None, 2)                 0         \n",
            "_________________________________________________________________\n",
            "dense_1 (Dense)              (None, 2)                 6         \n",
            "=================================================================\n",
            "Total params: 621,992\n",
            "Trainable params: 614,056\n",
            "Non-trainable params: 7,936\n",
            "_________________________________________________________________\n",
            "WARNING:tensorflow:From /usr/local/lib/python3.6/dist-packages/tensorflow/python/ops/math_ops.py:3066: to_int32 (from tensorflow.python.ops.math_ops) is deprecated and will be removed in a future version.\n",
            "Instructions for updating:\n",
            "Use tf.cast instead.\n",
            "Train on 6055 samples, validate on 1501 samples\n",
            "Epoch 1/20\n",
            "6055/6055 [==============================] - 53s 9ms/step - loss: 0.6618 - acc: 0.5726 - val_loss: 0.6367 - val_acc: 0.6302\n",
            "Epoch 2/20\n",
            "6055/6055 [==============================] - 45s 7ms/step - loss: 0.6059 - acc: 0.6629 - val_loss: 0.5725 - val_acc: 0.6989\n",
            "Epoch 3/20\n",
            "6055/6055 [==============================] - 45s 7ms/step - loss: 0.5296 - acc: 0.7442 - val_loss: 0.6660 - val_acc: 0.6629\n",
            "Epoch 4/20\n",
            "6055/6055 [==============================] - 45s 7ms/step - loss: 0.4798 - acc: 0.7767 - val_loss: 0.5111 - val_acc: 0.7522\n",
            "Epoch 5/20\n",
            "6055/6055 [==============================] - 45s 7ms/step - loss: 0.4275 - acc: 0.8147 - val_loss: 0.6974 - val_acc: 0.7235\n",
            "Epoch 6/20\n",
            "6055/6055 [==============================] - 45s 7ms/step - loss: 0.3997 - acc: 0.8312 - val_loss: 0.4409 - val_acc: 0.8075\n",
            "Epoch 7/20\n",
            "6055/6055 [==============================] - 45s 7ms/step - loss: 0.3700 - acc: 0.8499 - val_loss: 0.4234 - val_acc: 0.8241\n",
            "Epoch 8/20\n",
            "6055/6055 [==============================] - 45s 7ms/step - loss: 0.3390 - acc: 0.8618 - val_loss: 0.4127 - val_acc: 0.8328\n",
            "Epoch 9/20\n",
            "6055/6055 [==============================] - 45s 7ms/step - loss: 0.3144 - acc: 0.8748 - val_loss: 0.5010 - val_acc: 0.7808\n",
            "Epoch 10/20\n",
            "6055/6055 [==============================] - 45s 7ms/step - loss: 0.2850 - acc: 0.8892 - val_loss: 0.4322 - val_acc: 0.8048\n",
            "Epoch 11/20\n",
            "6055/6055 [==============================] - 45s 7ms/step - loss: 0.2728 - acc: 0.8892 - val_loss: 0.4000 - val_acc: 0.8454\n",
            "Epoch 12/20\n",
            "6055/6055 [==============================] - 45s 7ms/step - loss: 0.2414 - acc: 0.9103 - val_loss: 0.5207 - val_acc: 0.8061\n",
            "Epoch 13/20\n",
            "6055/6055 [==============================] - 45s 7ms/step - loss: 0.2180 - acc: 0.9209 - val_loss: 0.3921 - val_acc: 0.8481\n",
            "Epoch 14/20\n",
            "6055/6055 [==============================] - 45s 7ms/step - loss: 0.2044 - acc: 0.9240 - val_loss: 0.4019 - val_acc: 0.8414\n",
            "Epoch 15/20\n",
            "6055/6055 [==============================] - 45s 7ms/step - loss: 0.1782 - acc: 0.9361 - val_loss: 0.4272 - val_acc: 0.8408\n",
            "Epoch 16/20\n",
            "6055/6055 [==============================] - 45s 7ms/step - loss: 0.1706 - acc: 0.9391 - val_loss: 0.3987 - val_acc: 0.8521\n",
            "Epoch 17/20\n",
            "6055/6055 [==============================] - 45s 7ms/step - loss: 0.1525 - acc: 0.9524 - val_loss: 0.4573 - val_acc: 0.8528\n",
            "Epoch 18/20\n",
            "6055/6055 [==============================] - 45s 7ms/step - loss: 0.1386 - acc: 0.9528 - val_loss: 0.5647 - val_acc: 0.8195\n",
            "Epoch 19/20\n",
            "6055/6055 [==============================] - 45s 7ms/step - loss: 0.1172 - acc: 0.9647 - val_loss: 0.9141 - val_acc: 0.7069\n",
            "Epoch 20/20\n",
            "6055/6055 [==============================] - 45s 7ms/step - loss: 0.1092 - acc: 0.9678 - val_loss: 0.7743 - val_acc: 0.8068\n"
          ],
          "name": "stdout"
        }
      ]
    },
    {
      "metadata": {
        "id": "VSaD1FbReWHm",
        "colab_type": "code",
        "outputId": "64c88a22-adad-4470-d4d8-4ee6798982d0",
        "colab": {
          "base_uri": "https://localhost:8080/",
          "height": 372
        }
      },
      "cell_type": "code",
      "source": [
        "history.history['val_acc']\n",
        "# plt.plot(history.history['val_acc'])"
      ],
      "execution_count": 0,
      "outputs": [
        {
          "output_type": "execute_result",
          "data": {
            "text/plain": [
              "[0.5882744836775483,\n",
              " 0.6089273818745603,\n",
              " 0.6249167223142672,\n",
              " 0.6109260492905388,\n",
              " 0.6542305129714842,\n",
              " 0.5909393737483509,\n",
              " 0.6449033977944084,\n",
              " 0.6835443036981934,\n",
              " 0.6995336441974652,\n",
              " 0.6502331780104698,\n",
              " 0.6515656228981996,\n",
              " 0.6948700865096525,\n",
              " 0.7028647573450102,\n",
              " 0.7161892071554933,\n",
              " 0.7021985345487194,\n",
              " 0.7081945372136095,\n",
              " 0.7135243173601784,\n",
              " 0.6908727513798708,\n",
              " 0.6955363093655083,\n",
              " 0.6908727513004509]"
            ]
          },
          "metadata": {
            "tags": []
          },
          "execution_count": 17
        }
      ]
    },
    {
      "metadata": {
        "id": "FAiN1pRxfAsx",
        "colab_type": "code",
        "outputId": "c7eb6c27-5a09-4ed2-e7be-400c1b6bf350",
        "colab": {
          "base_uri": "https://localhost:8080/",
          "height": 282
        }
      },
      "cell_type": "code",
      "source": [
        "epochs = [i+1 for i in range(20)]\n",
        "f, ax = plt.subplots(1)\n",
        "ax.plot(epochs, history.history['val_acc'],marker = '*')\n",
        "ax.set_ylim(bottom=0.5,top=0.75)\n",
        "plt.xlabel('Epochs')\n",
        "plt.ylabel('Magnitude')\n",
        "plt.legend(['accuracy'])\n",
        "plt.show(f)"
      ],
      "execution_count": 0,
      "outputs": [
        {
          "output_type": "display_data",
          "data": {
            "image/png": "[encoded data removed]",
            "text/plain": [
              "<Figure size 432x288 with 1 Axes>"
            ]
          },
          "metadata": {
            "tags": []
          }
        }
      ]
    },
    {
      "metadata": {
        "id": "Q5IjQ5Sv1gyf",
        "colab_type": "code",
        "outputId": "26e010f2-6d5d-4445-a820-7745d5a7dca4",
        "colab": {
          "base_uri": "https://localhost:8080/",
          "height": 34
        }
      },
      "cell_type": "code",
      "source": [
        "pred = model_dw.predict(val_images)\n",
        "y_score = pred[:,1]\n",
        "y_true=val_labels[:,1]\n",
        "from sklearn.metrics import roc_curve , confusion_matrix \n",
        "\n",
        "\n",
        "fpr , tpr, thres = roc_curve(y_true , y_score , pos_label = 1) \n",
        "\n",
        "y= []\n",
        "for i in range(len(y_score)):\n",
        "    if (y_score[i]>=0.5):\n",
        "        y.append(1)\n",
        "    else :\n",
        "        y.append(0)\n",
        "\n",
        "y = np.asarray(y)\n",
        "y\n",
        "\n",
        "tn , fp , fn , tp = confusion_matrix(y_true, y).ravel()\n",
        "tn , fp , fn , tp"
      ],
      "execution_count": 0,
      "outputs": [
        {
          "output_type": "execute_result",
          "data": {
            "text/plain": [
              "(838, 33, 257, 373)"
            ]
          },
          "metadata": {
            "tags": []
          },
          "execution_count": 7
        }
      ]
    },
    {
      "metadata": {
        "id": "UV8AS4IA13-n",
        "colab_type": "code",
        "outputId": "f3bae823-8b07-4c0a-ccc6-5b4b8266d17e",
        "colab": {
          "base_uri": "https://localhost:8080/",
          "height": 286
        }
      },
      "cell_type": "code",
      "source": [
        "import matplotlib.pyplot as plt\n",
        "\n",
        "plt.plot(fpr,tpr)"
      ],
      "execution_count": 0,
      "outputs": [
        {
          "output_type": "execute_result",
          "data": {
            "text/plain": [
              "[<matplotlib.lines.Line2D at 0x7f37ee59ba90>]"
            ]
          },
          "metadata": {
            "tags": []
          },
          "execution_count": 11
        },
        {
          "output_type": "display_data",
          "data": {
            "image/png": "[encoded data removed]",
            "text/plain": [
              "<Figure size 432x288 with 1 Axes>"
            ]
          },
          "metadata": {
            "tags": []
          }
        }
      ]
    },
    {
      "metadata": {
        "id": "Ubd11f389Svq",
        "colab_type": "code",
        "outputId": "03791768-da6f-475b-8227-9907bb3ee57f",
        "colab": {
          "base_uri": "https://localhost:8080/",
          "height": 312
        }
      },
      "cell_type": "code",
      "source": [
        "pred = model_dw.predict(val_images)\n",
        "y_score = pred[:,1]\n",
        "y_true=val_labels[:,1]\n",
        "\n",
        "from sklearn.metrics import roc_curve , confusion_matrix \n",
        "\n",
        "\n",
        "fpr , tpr, thres = roc_curve(y_true , y_score , pos_label = 1) \n",
        "\n",
        "y= []\n",
        "for i in range(len(y_score)):\n",
        "    if (y_score[i]>=0.5):\n",
        "        y.append(1)\n",
        "    else :\n",
        "        y.append(0)\n",
        "\n",
        "y = np.asarray(y)\n",
        "y\n",
        "\n",
        "tn , fp , fn , tp = confusion_matrix(y_true, y).ravel()\n",
        "tn , fp , fn , tp\n",
        "\n",
        "\n",
        "\n",
        "import matplotlib.pyplot as plt\n",
        "from sklearn.metrics import roc_curve, auc , roc_auc_score\n",
        "f = dict()\n",
        "t = dict()\n",
        "roc_auc = dict()\n",
        "for i in range(2):\n",
        "    f[i], t[i], _ = roc_curve(y_true, y_score)\n",
        "    roc_auc[i] = auc(f[i], t[i])\n",
        "\n",
        "print (roc_auc_score(y_true, y_score))\n",
        "plt.figure()\n",
        "plt.plot(f[1], t[1])\n",
        "plt.xlim([0.0, 1.0])\n",
        "plt.ylim([0.0, 1.05])\n",
        "plt.xlabel('False Positive Rate')\n",
        "plt.ylabel('True Positive Rate')\n",
        "plt.title('Receiver operating characteristic')\n",
        "plt.show()"
      ],
      "execution_count": 0,
      "outputs": [
        {
          "output_type": "stream",
          "text": [
            "0.8941738195469537\n"
          ],
          "name": "stdout"
        },
        {
          "output_type": "display_data",
          "data": {
            "image/png": "[encoded data removed]",
            "text/plain": [
              "<Figure size 432x288 with 1 Axes>"
            ]
          },
          "metadata": {
            "tags": []
          }
        }
      ]
    },
    {
      "metadata": {
        "id": "qdmpt8oG95xO",
        "colab_type": "code",
        "outputId": "d841b8b8-cc4e-4aa9-fc6e-459ba5457023",
        "colab": {
          "base_uri": "https://localhost:8080/",
          "height": 312
        }
      },
      "cell_type": "code",
      "source": [
        "## getting squeezenet values from desktop \n",
        "\n",
        "y_sq =pd.read_csv('texts.csv')\n",
        "\n",
        "y_sq = y_sq.iloc[:, 1]\n",
        "y_sq.tolist()\n",
        "y_sq= np.asarray(y_sq)\n",
        "\n",
        "import matplotlib.pyplot as plt\n",
        "from sklearn.metrics import roc_curve, auc , roc_auc_score\n",
        "fpr = dict()\n",
        "tpr = dict()\n",
        "roc_auc = dict()\n",
        "for i in range(2):\n",
        "    fpr[i], tpr[i], _ = roc_curve(y_true, y_sq)\n",
        "    roc_auc[i] = auc(fpr[i], tpr[i])\n",
        "\n",
        "print (roc_auc_score(y_true, y_sq))\n",
        "plt.figure()\n",
        "plt.plot(fpr[1], tpr[1])\n",
        "plt.plot(f_b[1], t_b[1])\n",
        "plt.plot(f[1],t[1])\n",
        "\n",
        "plt.xlim([0.0, 1.0])\n",
        "plt.ylim([0.0, 1.05])\n",
        "plt.xlabel('False Positive Rate')\n",
        "plt.ylabel('True Positive Rate')\n",
        "plt.legend(['2D SqueezeNet','2D vanilla CNN', '2D MobileNet'])\n",
        "plt.title('Receiver operating characteristic')\n",
        "plt.show()"
      ],
      "execution_count": 0,
      "outputs": [
        {
          "output_type": "stream",
          "text": [
            "0.9063728974176736\n"
          ],
          "name": "stdout"
        },
        {
          "output_type": "display_data",
          "data": {
            "image/png": "[encoded data removed]",
            "text/plain": [
              "<Figure size 432x288 with 1 Axes>"
            ]
          },
          "metadata": {
            "tags": []
          }
        }
      ]
    },
    {
      "metadata": {
        "id": "J4TEVZXcO6WA",
        "colab_type": "code",
        "outputId": "28bb83ad-6fa8-4425-a4bc-b4a773069d47",
        "colab": {
          "base_uri": "https://localhost:8080/",
          "height": 312
        }
      },
      "cell_type": "code",
      "source": [
        "y_base =pd.read_csv('base.csv')\n",
        "y_base_true = y_base.loc[ 0,:]\n",
        "y_base_pred = y_base.loc[ 1,:]\n",
        "y_base_pred =np.asarray(y_base_pred.tolist())\n",
        "y_base_true =np.asarray(y_base_true.tolist())\n",
        "\n",
        "import matplotlib.pyplot as plt\n",
        "from sklearn.metrics import roc_curve, auc , roc_auc_score\n",
        "f_b = dict()\n",
        "t_b = dict()\n",
        "roc_auc = dict()\n",
        "for i in range(2):\n",
        "    f_b[i], t_b[i], _ = roc_curve(y_base_true, y_base_pred)\n",
        "    roc_auc[i] = auc(f_b[i], t_b[i])\n",
        "\n",
        "print (roc_auc_score(y_base_true, y_base_pred))\n",
        "plt.figure()\n",
        "plt.plot(f_b[1], t_b[1])\n",
        "plt.xlim([0.0, 1.0])\n",
        "plt.ylim([0.0, 1.05])\n",
        "plt.xlabel('False Positive Rate')\n",
        "plt.ylabel('True Positive Rate')\n",
        "plt.title('Receiver operating characteristic')\n",
        "plt.show()"
      ],
      "execution_count": 0,
      "outputs": [
        {
          "output_type": "stream",
          "text": [
            "0.9283198174675811\n"
          ],
          "name": "stdout"
        },
        {
          "output_type": "display_data",
          "data": {
            "image/png": "[encoded data removed]",
            "text/plain": [
              "<Figure size 432x288 with 1 Axes>"
            ]
          },
          "metadata": {
            "tags": []
          }
        }
      ]
    }
  ]
}